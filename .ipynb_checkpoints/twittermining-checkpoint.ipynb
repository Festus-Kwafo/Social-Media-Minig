{
 "cells": [
  {
   "cell_type": "code",
   "execution_count": 1,
   "id": "d9c979ff",
   "metadata": {},
   "outputs": [],
   "source": [
    "import twitter"
   ]
  },
  {
   "cell_type": "code",
   "execution_count": 2,
   "id": "121d597b",
   "metadata": {},
   "outputs": [],
   "source": [
    "# API keyws that yous saved earlier\n",
    "api_key = \"jAqIgaaqgW6gCbzXeiF1ANX4W\"\n",
    "api_secrets = \"05VDK7OiJjgozK9XiuJMp235f2LungWYokQWRAAr6uowLELG8I\"\n",
    "access_token = \"1482850014930120712-Ymi94W3W3ePBDh6Ma1J3gZam8sdiGf\"\n",
    "access_secret = \"KCNw1oiCMm50Cm77a64UikNKhEujo3zawCdvYvBwx8LVT\""
   ]
  },
  {
   "cell_type": "code",
   "execution_count": 3,
   "id": "d015bc6f",
   "metadata": {},
   "outputs": [],
   "source": [
    "auth = twitter.oauth.OAuth(access_token, access_secret, api_key, api_secrets)"
   ]
  },
  {
   "cell_type": "code",
   "execution_count": 4,
   "id": "bf584bb6",
   "metadata": {},
   "outputs": [
    {
     "name": "stdout",
     "output_type": "stream",
     "text": [
      "<twitter.api.Twitter object at 0x0000022C440685B0>\n"
     ]
    }
   ],
   "source": [
    "twitter_api = twitter.Twitter(auth=auth)\n",
    "print(twitter_api)"
   ]
  },
  {
   "cell_type": "code",
   "execution_count": 5,
   "id": "1773a14b",
   "metadata": {},
   "outputs": [],
   "source": [
    "WORLD_WOE_ID = 1\n",
    "US_WOE_ID = 23424977"
   ]
  },
  {
   "cell_type": "code",
   "execution_count": 6,
   "id": "b0437cc1",
   "metadata": {},
   "outputs": [],
   "source": [
    "world_trends = twitter_api.trends.place(_id=WORLD_WOE_ID)\n",
    "us_trends = twitter_api.trends.place(_id=US_WOE_ID)"
   ]
  },
  {
   "cell_type": "code",
   "execution_count": 7,
   "id": "713ab0d4",
   "metadata": {},
   "outputs": [],
   "source": [
    "world_trends_set = set([trend['name'] for trend in world_trends[0]['trends']])\n",
    "us_trends_set = set([trend['name'] for trend in us_trends[0]['trends']])"
   ]
  },
  {
   "cell_type": "code",
   "execution_count": 8,
   "id": "a6e35ef9",
   "metadata": {},
   "outputs": [
    {
     "name": "stdout",
     "output_type": "stream",
     "text": [
      "{'Klopp', 'Liverpool', 'jay park', 'Sancho', 'McTominay', '#PortfolioDay', 'De Gea', 'Koulibaly', 'Ten Hag', 'Rashford', 'Martial', 'McFred', 'Carvalho'}\n"
     ]
    }
   ],
   "source": [
    "common_trends = world_trends_set.intersection(us_trends_set)\n",
    "print(common_trends)"
   ]
  },
  {
   "cell_type": "code",
   "execution_count": null,
   "id": "034edda3",
   "metadata": {},
   "outputs": [],
   "source": []
  }
 ],
 "metadata": {
  "kernelspec": {
   "display_name": "Python 3 (ipykernel)",
   "language": "python",
   "name": "python3"
  },
  "language_info": {
   "codemirror_mode": {
    "name": "ipython",
    "version": 3
   },
   "file_extension": ".py",
   "mimetype": "text/x-python",
   "name": "python",
   "nbconvert_exporter": "python",
   "pygments_lexer": "ipython3",
   "version": "3.9.7"
  }
 },
 "nbformat": 4,
 "nbformat_minor": 5
}
