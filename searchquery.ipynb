{
 "cells": [
  {
   "cell_type": "code",
   "execution_count": 91,
   "id": "4b644b97",
   "metadata": {},
   "outputs": [],
   "source": [
    "import requests\n",
    "from bs4 import BeautifulSoup"
   ]
  },
  {
   "cell_type": "code",
   "execution_count": 100,
   "id": "9dfaaeed",
   "metadata": {},
   "outputs": [],
   "source": [
    "def search(url, search_q):\n",
    "    r = requests.get(url, params=search_q)\n",
    "    return r\n",
    "\n",
    "url = \"https://www.myjoyonline.com/\"\n",
    "search_q = {'s': 'flood'}\n",
    "page = search(url, search_q)"
   ]
  },
  {
   "cell_type": "code",
   "execution_count": 101,
   "id": "16bfd718",
   "metadata": {},
   "outputs": [],
   "source": [
    "soup = BeautifulSoup(page.content, \"html.parser\")"
   ]
  },
  {
   "cell_type": "code",
   "execution_count": 102,
   "id": "0ba10821",
   "metadata": {
    "scrolled": true
   },
   "outputs": [],
   "source": [
    "search_q_elements = soup.find(\"div\", class_=\"col-sm-12 col-md-12 col-lg-9 mt-lg-3 mt-sm-3 mt-md-3\")"
   ]
  },
  {
   "cell_type": "code",
   "execution_count": 104,
   "id": "b71f508b",
   "metadata": {},
   "outputs": [],
   "source": [
    "news_query = search_q_elements.find_all(\"div\", class_=\"col-lg-3 col-md-6 col-sm-6 col-xs-6 mb-4\")"
   ]
  },
  {
   "cell_type": "code",
   "execution_count": 105,
   "id": "a500397b",
   "metadata": {},
   "outputs": [],
   "source": [
    "news_group = [i.find(class_=\"home-section-story-list tt-center\") for i in news_query]"
   ]
  },
  {
   "cell_type": "code",
   "execution_count": 98,
   "id": "887519a8",
   "metadata": {},
   "outputs": [
    {
     "name": "stdout",
     "output_type": "stream",
     "text": [
      "Title: Blackstars not facing accommodation challenges ”“ GFA\n",
      "URL: https://www.myjoyonline.com/blackstars-not-facing-accommodation-challenges-â€“-gfa/\n",
      "\n",
      "\n",
      "Title: Iñaki Williams declares he will “defend the Ghana shirt” in nationality switch confirmation\n",
      "URL: https://www.myjoyonline.com/inaki-williams-declares-he-will-defend-the-ghana-shirt-in-nationality-switch-confirmation/\n",
      "\n",
      "\n",
      "Title: This Week On #TwitterGhana: Black Stars thrash Madagascar, Gyakie to perform at Palladium Times Square and many more\n",
      "URL: https://www.myjoyonline.com/this-week-on-twitterghana-black-stars-thrash-madagascar-gyakie-to-perform-at-palladium-times-square-and-many-more/\n",
      "\n",
      "\n",
      "Title: Photos: Asamoah Gyan’s book launch\n",
      "URL: https://www.myjoyonline.com/photos-asamoah-gyans-book-launch/\n",
      "\n",
      "\n",
      "Title: ‘Qatar, here we come’ – Social media users jubilate over Black Stars’ victory\n",
      "URL: https://www.myjoyonline.com/qatar-here-we-come-social-media-users-jubilate-over-black-stars-victory/\n",
      "\n",
      "\n",
      "Title: Jollof derby: Nigeria likely to face sanctions – Saanie Daara on Moshood Abiola stadium riot\n",
      "URL: https://www.myjoyonline.com/jollof-derby-nigeria-likely-to-face-sanctions-saanie-daara-on-moshood-abiola-stadium-riot/\n",
      "\n",
      "\n",
      "Title: 2022 FIFA World Cup: Twitter users react to Black Stars qualification\n",
      "URL: https://www.myjoyonline.com/2022-fifa-world-cup-twitter-users-react-to-black-stars-qualification/\n",
      "\n",
      "\n",
      "Title: Go make history once again – Asamoah Gyan urges Black Stars ahead of Nigeria match\n",
      "URL: https://www.myjoyonline.com/go-make-history-once-again-asamoah-gyan-urges-black-stars-ahead-of-nigeria-match/\n",
      "\n",
      "\n",
      "Title: Why Dede Ayew is trending on Twitter\n",
      "URL: https://www.myjoyonline.com/why-dede-ayew-is-trending-on-twitter/\n",
      "\n",
      "\n",
      "Title: Bagbin’s new look gets social media talking as Parliament resumes sitting\n",
      "URL: https://www.myjoyonline.com/bagbins-new-look-gets-social-media-talking-as-parliament-resumes-sitting/\n",
      "\n",
      "\n",
      "Title: Social media reacts to Milovan’s removal as Black Stars head coach\n",
      "URL: https://www.myjoyonline.com/social-media-reacts-to-milovans-removal-as-black-stars-head-coach/\n",
      "\n",
      "\n",
      "Title: This week on #TwitterGhana: Coach Milovan Rajevac sacked, Nana Aba launches Foundation many and more\n",
      "URL: https://www.myjoyonline.com/this-week-on-twitterghana-coach-milovan-rajevac-sacked-nana-aba-launches-foundation-many-and-more/\n",
      "\n",
      "\n",
      "Title: This week on #TwitterGhana: Black Stars exit tournament, KiDi’s NAACP awards nomination and more\n",
      "URL: https://www.myjoyonline.com/this-week-on-twitterghana-black-stars-exit-tournament-kidis-naacp-awards-nomination-and-more/\n",
      "\n",
      "\n",
      "Title: AFCON 2021: It’s still possible for Black Stars to twinkle in Cameroon – Sam George\n",
      "URL: https://www.myjoyonline.com/afcon-2021-its-still-possible-for-black-stars-to-twinkle-in-cameroon-sam-george/\n",
      "\n",
      "\n",
      "Title: #TeamGhana trends ahead of AFCON 2021\n",
      "URL: https://www.myjoyonline.com/teamghana-trends-ahead-of-afcon-2021/\n",
      "\n",
      "\n",
      "Title: Social media reacts to Milovan Rajevac’s appointment as Black Stars coach\n",
      "URL: https://www.myjoyonline.com/social-media-reacts-to-milovan-rajevacs-appointment-as-black-stars-coach/\n",
      "\n",
      "\n",
      "Title: Twitter trends in Ghana: Hunt for new Black Star Coach, SarkodiexGrammy and more\n",
      "URL: https://www.myjoyonline.com/twitter-trends-in-ghana-hunt-for-new-black-star-coach-sarkodiexgrammy-and-more/\n",
      "\n",
      "\n",
      "Title: Social media reacts to termination of CK Akonnor’s contract by GFA\n",
      "URL: https://www.myjoyonline.com/social-media-reacts-to-termination-of-ck-akonnors-contract-by-gfa/\n",
      "\n",
      "\n",
      "Title: Green Ghana Project has potential to increase life expectancy and promote healthy lives – GHS Director of Health Promotion\n",
      "URL: https://www.myjoyonline.com/green-ghana-project-has-potential-to-increase-life-expectancy-and-promote-healthy-lives-ghs-director-of-health-promotion/\n",
      "\n",
      "\n",
      "Title: If Shatta Wale was paid ¢2 million by Exim Bank, he deserves it – Bulldog\n",
      "URL: https://www.myjoyonline.com/if-shatta-wale-was-paid-%c2%a22-million-by-exim-bank-he-deserves-it-bulldog/\n",
      "\n",
      "\n",
      "Title: Social media users react to Hawa Koomson’s firing of gun at registration centre in Kasoa\n",
      "URL: https://www.myjoyonline.com/social-media-users-react-to-hawa-koomsons-firing-of-gun-at-registration-centre-in-kasoa/\n",
      "\n",
      "\n",
      "Title: Players won’t go to Ethiopia if they earn good salaries in Ghana – Odartey Lamptey\n",
      "URL: https://www.myjoyonline.com/players-wont-go-to-ethiopia-if-they-earn-good-salaries-in-ghana-odartey-lamptey/\n",
      "\n",
      "\n",
      "Title: AFCON 2021 Qualifiers: Why the Black Stars flew to São Tomé, via military aircraft\n",
      "URL: https://www.myjoyonline.com/afcon-2021-qualifiers-why-the-black-stars-flew-to-sao-toma-via-military-aircraft/\n",
      "\n",
      "\n",
      "Title: Kabu Nartey writes: In my country Ghana, football is politics\n",
      "URL: https://www.myjoyonline.com/kabu-nartey-writesae%c2%a6in-my-country-ghana-football-is-politics/\n",
      "\n",
      "\n",
      "Title: AFCON 2019: Black Stars arrive in Ghana after failing to end title drought\n",
      "URL: https://www.myjoyonline.com/afcon-2019-black-stars-arrive-in-ghana-after-failing-to-end-title-drought/\n",
      "\n",
      "\n",
      "Title: AFCON 2019: Kevin-Prince Boateng mocks Black Stars after painful exit\n",
      "URL: https://www.myjoyonline.com/afcon-2019-kevin-prince-boateng-mocks-black-stars-after-painful-exit/\n",
      "\n",
      "\n",
      "Title: AFCON 2019: Black Stars XI v Benin – Kwadwo Asamoah benched\n",
      "URL: https://www.myjoyonline.com/afcon-2019-black-stars-xi-v-benin-kwadwo-asamoah-benched/\n",
      "\n",
      "\n",
      "Title: Asamoah Gyan’s return will be negative but… – Foh-Amoaning\n",
      "URL: https://www.myjoyonline.com/asamoah-gyans-return-will-be-negative-butae%c2%a6-foh-amoaning/\n",
      "\n",
      "\n",
      "Title: Politics is not religion”¦ – Free Zones boss wants a paradigm shift\n",
      "URL: https://www.myjoyonline.com/politics-is-not-religionâ€¦-free-zones-boss-wants-a-paradigm-shift/\n",
      "\n",
      "\n",
      "Title: Iceland v Ghana: Twitter flays Asamoah Gyan after he asks for Black Stars support\n",
      "URL: https://www.myjoyonline.com/iceland-v-ghana-twitter-flays-asamoah-gyan-after-he-asks-for-black-stars-support/\n",
      "\n",
      "\n",
      "Title: CONFIRMED: Atsu, Gyan out of Egypt World Cup qualifier\n",
      "URL: https://www.myjoyonline.com/confirmed-atsu-gyan-out-of-egypt-world-cup-qualifier/\n",
      "\n",
      "\n",
      "Title: Asamoah Gyan limps out of training ahead of Egypt clash\n",
      "URL: https://www.myjoyonline.com/asamoah-gyan-limps-out-of-training-ahead-of-egypt-clash/\n",
      "\n",
      "\n"
     ]
    }
   ],
   "source": [
    "news_title = [[i.find(\"h4\").text, i.find(\"a\")[\"href\"]] for i in news_group]\n",
    "\n",
    "for title, link, i in news_title:\n",
    "    i= 1\n",
    "    print(f\"{i} Title: \" + title + '\\n' + \"URL: \" + link )\n",
    "    \n",
    "    print(\"\\n\")"
   ]
  },
  {
   "cell_type": "code",
   "execution_count": null,
   "id": "13b70812",
   "metadata": {},
   "outputs": [],
   "source": []
  },
  {
   "cell_type": "code",
   "execution_count": null,
   "id": "185d3b89",
   "metadata": {},
   "outputs": [],
   "source": []
  }
 ],
 "metadata": {
  "kernelspec": {
   "display_name": "Python 3 (ipykernel)",
   "language": "python",
   "name": "python3"
  },
  "language_info": {
   "codemirror_mode": {
    "name": "ipython",
    "version": 3
   },
   "file_extension": ".py",
   "mimetype": "text/x-python",
   "name": "python",
   "nbconvert_exporter": "python",
   "pygments_lexer": "ipython3",
   "version": "3.9.7"
  }
 },
 "nbformat": 4,
 "nbformat_minor": 5
}
